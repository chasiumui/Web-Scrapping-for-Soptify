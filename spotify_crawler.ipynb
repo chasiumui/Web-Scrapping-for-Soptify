{
 "cells": [
  {
   "cell_type": "code",
   "execution_count": 34,
   "metadata": {},
   "outputs": [],
   "source": [
    "#install packages\n",
    "from gettext import npgettext\n",
    "from importlib.metadata import requires\n",
    "import requests\n",
    "from bs4 import BeautifulSoup\n",
    "import pandas as pd"
   ]
  },
  {
   "cell_type": "code",
   "execution_count": 36,
   "metadata": {},
   "outputs": [],
   "source": [
    "#import url\n",
    "url = 'https://kworb.net/spotify/country/hk_daily.html'\n",
    "\n",
    "# using requests package to download from web\n",
    "req = requests.get(url)\n",
    "req.encoding = 'utf-8' # super important!!!\n",
    "assert req\n",
    "# <Response [200]> meaning it is successful\n",
    "\n",
    "soup = BeautifulSoup (req.text, features ='html.parser')\n",
    "#print(soup.prettify())  \n",
    "\n",
    "#obtain info. from tag <body>\n",
    "table1 = soup.find('table',id='spotifydaily')\n",
    "assert table1"
   ]
  },
  {
   "cell_type": "code",
   "execution_count": 29,
   "metadata": {},
   "outputs": [],
   "source": [
    "# Obtain every title of columns with tag <th>\n",
    "# <table><tr><th>ABC</th><th>DEF</th></table>\n",
    "# Transformation / Mapping\n",
    "# [\"ABC\", \"DEF\"]\n",
    "# [\"ABC1234\", \"DE3415\"] -> [\"ABC\", \"DE\"] (map)\n",
    "# [1, 5, 1, 2, 5, 6, 1] -> 21 (reduce)\n",
    "# reduce(lambda acc, x: acc+x, array, 0)\n",
    "\n",
    "headers = list( \n",
    "  map(\n",
    "    lambda x: x.text, \n",
    "    table1.find_all('th')\n",
    "  ) \n",
    ")\n",
    "\n",
    "# headers=[]\n",
    "# for th_cell in table1.find_all('th'):\n",
    "#   title = th_cell.text\n",
    "#   headers.append(title)\n",
    "\n",
    "assert headers"
   ]
  },
  {
   "cell_type": "code",
   "execution_count": 30,
   "metadata": {},
   "outputs": [
    {
     "data": {
      "text/html": [
       "<div>\n",
       "<style scoped>\n",
       "    .dataframe tbody tr th:only-of-type {\n",
       "        vertical-align: middle;\n",
       "    }\n",
       "\n",
       "    .dataframe tbody tr th {\n",
       "        vertical-align: top;\n",
       "    }\n",
       "\n",
       "    .dataframe thead th {\n",
       "        text-align: right;\n",
       "    }\n",
       "</style>\n",
       "<table border=\"1\" class=\"dataframe\">\n",
       "  <thead>\n",
       "    <tr style=\"text-align: right;\">\n",
       "      <th></th>\n",
       "      <th>Pos</th>\n",
       "      <th>P+</th>\n",
       "      <th>Artist and Title</th>\n",
       "      <th>Days</th>\n",
       "      <th>Pk</th>\n",
       "      <th>(x?)</th>\n",
       "      <th>Streams</th>\n",
       "      <th>Streams+</th>\n",
       "      <th>7Day</th>\n",
       "      <th>7Day+</th>\n",
       "      <th>Total</th>\n",
       "    </tr>\n",
       "  </thead>\n",
       "  <tbody>\n",
       "  </tbody>\n",
       "</table>\n",
       "</div>"
      ],
      "text/plain": [
       "Empty DataFrame\n",
       "Columns: [Pos, P+, Artist and Title, Days, Pk, (x?), Streams, Streams+, 7Day, 7Day+, Total]\n",
       "Index: []"
      ]
     },
     "execution_count": 30,
     "metadata": {},
     "output_type": "execute_result"
    }
   ],
   "source": [
    "#create dataframe, adding columns inside\n",
    "mydata = pd.DataFrame (columns = headers)\n",
    "\n",
    "mydata\n"
   ]
  },
  {
   "cell_type": "code",
   "execution_count": 31,
   "metadata": {},
   "outputs": [
    {
     "name": "stdout",
     "output_type": "stream",
     "text": [
      "     Pos   P+                                  Artist and Title  Days   Pk  \\\n",
      "0      1    =                                      MC 張天賦 - 記憶棉    94    1   \n",
      "1      2    =                                     MC 張天賦 - 反對無效   234    2   \n",
      "2      3    =                                     MC 張天賦 - 時候不早    41    2   \n",
      "3      4    =                            COLLAR - Call My Name!    11    1   \n",
      "4      5    =                    William Wei - 如果可以 - 電影\"月老\"主題曲    48    4   \n",
      "..   ...  ...                                               ...   ...  ...   \n",
      "195  196   RE                        Ronald Cheng - My Only One   408   25   \n",
      "196  197   RE                         YENA - SMILEY(Feat. BIBI)     4  179   \n",
      "197  198  -21                         Charmaine Fong - 你是你本身的傳奇  1892   10   \n",
      "198  199   RE                                    Justin Lo - 命硬  2290   30   \n",
      "199  200    =  MC 張天賦 - Can’t Stop Myself Tonight - Studio Live    34  111   \n",
      "\n",
      "      (x?) Streams Streams+     7Day    7Day+      Total  \n",
      "0    (x87)  47,361   -2,184  342,589   -6,229  4,002,636  \n",
      "1    (x55)  38,692   -1,518  277,125   -3,465  5,654,933  \n",
      "2     (x9)  32,077   -1,314  237,511   -3,937  1,477,202  \n",
      "3     (x1)  25,865   -1,575  208,399  -17,030    342,366  \n",
      "4           25,545     -822  188,860   -2,288    949,978  \n",
      "..     ...     ...      ...      ...      ...        ...  \n",
      "195          3,221             3,221   +3,221  2,065,169  \n",
      "196          3,211            13,826   +3,211     13,826  \n",
      "197          3,207     -380   13,691     -245  6,830,830  \n",
      "198          3,198             3,198     -156  8,321,979  \n",
      "199          3,166     -207   16,402     -224    127,445  \n",
      "\n",
      "[200 rows x 11 columns]\n"
     ]
    }
   ],
   "source": [
    "# mydata\n",
    "# Iteration 1: mydata = [], length = 0, mydata.loc[0] = ....\n",
    "# Iteration 2: mydata = [....], length = 1, mydata.loc[1] = yyyy\n",
    "# Iteration 3: mydata = [....,yyyy], length = 2, mydata.loc[2] = xxxx\n",
    "\n",
    "#create a for loop to full mydata\n",
    "for row in table1.find_all('tr')[1:]:  # j 做variable, 搵 <tr> 由第2行去到最尾\n",
    "    cells = row.find_all('td') # 每一個j 搵入面<td>所有野，做row_data\n",
    "    cell_text = [ i.text for i in cells ]\n",
    "    pos = len(mydata)\n",
    "    mydata.loc[pos] = cell_text\n",
    "\n",
    "\n",
    "# for line in mydata:\n",
    "#     print (line.encode('utf-8'))\n",
    "\n",
    "print(mydata)"
   ]
  },
  {
   "cell_type": "code",
   "execution_count": 32,
   "metadata": {},
   "outputs": [],
   "source": [
    "#import package for audtomatically changing the file names\n",
    "\n",
    "import datetime \n",
    "from datetime import timedelta\n",
    "yyyymmdd = datetime.datetime.today()\n",
    "yyyymmdd = yyyymmdd-timedelta(days=2)\n",
    "yyyymmdd = yyyymmdd.strftime('%Y%m%d')"
   ]
  },
  {
   "cell_type": "code",
   "execution_count": 33,
   "metadata": {},
   "outputs": [],
   "source": [
    "#save files in csv. format\n",
    "mydata.to_csv(f\"spotify_data_{yyyymmdd}.csv\",index=False)"
   ]
  }
 ],
 "metadata": {
  "interpreter": {
   "hash": "495a005911a947cf13792fe2c0fa1f1e2707a6c638c9fcd821d305e214bcb425"
  },
  "kernelspec": {
   "display_name": "Python 3.8.10 64-bit ('pythonProject2': conda)",
   "language": "python",
   "name": "python3"
  },
  "language_info": {
   "codemirror_mode": {
    "name": "ipython",
    "version": 3
   },
   "file_extension": ".py",
   "mimetype": "text/x-python",
   "name": "python",
   "nbconvert_exporter": "python",
   "pygments_lexer": "ipython3",
   "version": "3.8.10"
  },
  "orig_nbformat": 4
 },
 "nbformat": 4,
 "nbformat_minor": 2
}
